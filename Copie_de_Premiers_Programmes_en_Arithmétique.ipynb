{
  "nbformat": 4,
  "nbformat_minor": 0,
  "metadata": {
    "colab": {
      "provenance": [],
      "authorship_tag": "ABX9TyMRxez7icYjdirjLeboPS0f",
      "include_colab_link": true
    },
    "kernelspec": {
      "name": "python3",
      "display_name": "Python 3"
    },
    "language_info": {
      "name": "python"
    }
  },
  "cells": [
    {
      "cell_type": "markdown",
      "metadata": {
        "id": "view-in-github",
        "colab_type": "text"
      },
      "source": [
        "<a href=\"https://colab.research.google.com/github/pierremaujonnet/InitiationPython/blob/main/Copie_de_Premiers_Programmes_en_Arithm%C3%A9tique.ipynb\" target=\"_parent\"><img src=\"https://colab.research.google.com/assets/colab-badge.svg\" alt=\"Open In Colab\"/></a>"
      ]
    },
    {
      "cell_type": "markdown",
      "source": [
        "#Premiers programmes en arithmétique"
      ],
      "metadata": {
        "id": "1wCL3QBiU44y"
      }
    },
    {
      "cell_type": "markdown",
      "source": [
        "##Déterminer si un entier $a$ est divible par un entier $b$.\n",
        "###Cas de deux entiers naturels"
      ],
      "metadata": {
        "id": "ren9605oVBxl"
      }
    },
    {
      "cell_type": "code",
      "source": [
        "def est_divisible(a,b):\n",
        "  if b == 0:\n",
        "    return a == 0\n",
        "  while a >= b:\n",
        "    a = a - b\n",
        "  return a == 0\n",
        "\n",
        "print(est_divisible(0,0))\n",
        "print(est_divisible(10,0))\n",
        "print(est_divisible(10,2))\n",
        "print(est_divisible(10,3))"
      ],
      "metadata": {
        "id": "g6LH58oqVBSB"
      },
      "execution_count": null,
      "outputs": []
    },
    {
      "cell_type": "markdown",
      "source": [
        "###Cas de deux entiers naturels avec détermination du quotient"
      ],
      "metadata": {
        "id": "a4OPHAX8acw2"
      }
    },
    {
      "cell_type": "code",
      "source": [
        "def est_divisible_quotient(a,b):\n",
        "  if b == 0:\n",
        "    return a == 0, \"non défini\"\n",
        "    #Le quotient de 0 par 0 ne pouvant être défini ici, on peut soit l'indiquer, soit choisir une valeur comme 0 si cela est nécessaire.\n",
        "  q = 0\n",
        "  while a >= b:\n",
        "    a = a - b\n",
        "    q = q + 1\n",
        "  return a == 0, q\n",
        "\n",
        "print(est_divisible(0,0))\n",
        "print(est_divisible(10,0))\n",
        "print(est_divisible(10,2))\n",
        "print(est_divisible(10,3))"
      ],
      "metadata": {
        "id": "LpON0Iqcar_9"
      },
      "execution_count": null,
      "outputs": []
    },
    {
      "cell_type": "markdown",
      "source": [
        "###Utilisation des opérateurs `+=` et `-=`."
      ],
      "metadata": {
        "id": "-vfLIGYwb-Zd"
      }
    },
    {
      "cell_type": "code",
      "source": [
        "def est_divisible_quotient_v2(a,b):\n",
        "  if b == 0:\n",
        "    return a == 0, \"non défini\"\n",
        "  q = 0\n",
        "  while a >= b:\n",
        "    a -= b\n",
        "    q += 1\n",
        "  return a == 0, q\n",
        "\n",
        "print(est_divisible(0,0))\n",
        "print(est_divisible(10,0))\n",
        "print(est_divisible(10,2))\n",
        "print(est_divisible(10,3))"
      ],
      "metadata": {
        "id": "1FhCbNWDb-AO"
      },
      "execution_count": null,
      "outputs": []
    },
    {
      "cell_type": "markdown",
      "source": [
        "###Cas de deux entiers relatifs"
      ],
      "metadata": {
        "id": "XysWsXiictFT"
      }
    },
    {
      "cell_type": "code",
      "source": [
        "def est_divisible_entiers_relatifs(a,b):\n",
        "  if b == 0:\n",
        "    return a == 0\n",
        "  if b < 0:\n",
        "    return est_divisible_v2(a,-b)\n",
        "  if a < 0:\n",
        "    return est_divisible_v2(-a,b)\n",
        "  while a >= b:\n",
        "    a = a - b\n",
        "  return a == 0\n",
        "\n",
        "print(est_divisible_entiers_relatifs(0,0))\n",
        "print(est_divisible_entiers_relatifs(10,0))\n",
        "print(est_divisible_entiers_relatifs(10,2))\n",
        "print(est_divisible_entiers_relatifs(10,3))\n",
        "print(est_divisible_entiers_relatifs(10,-2))\n",
        "print(est_divisible_entiers_relatifs(-10,2))\n",
        "print(est_divisible_entiers_relatifs(-10,-2))\n",
        "print(est_divisible_entiers_relatifs(10,-3))\n",
        "print(est_divisible_entiers_relatifs(-10,3))"
      ],
      "metadata": {
        "id": "aEwGFN3bcxT7"
      },
      "execution_count": null,
      "outputs": []
    },
    {
      "cell_type": "markdown",
      "source": [
        "##Déterminer si un entier relatif $n$ est premier.\n",
        "###Version de base"
      ],
      "metadata": {
        "id": "tbi-6AzdeZfc"
      }
    },
    {
      "cell_type": "code",
      "source": [
        "from math import isqrt\n",
        "\n",
        "def est_premier(n):\n",
        "  if n <= 1:\n",
        "    return False\n",
        "  d = 2\n",
        "  r = isqrt(n)\n",
        "  while d <= r:\n",
        "    if n % d == 0:\n",
        "      return False\n",
        "    d += 1\n",
        "  return True\n",
        "\n",
        "print(est_premier(0))\n",
        "print(est_premier(1))\n",
        "print(est_premier(2))\n",
        "print(est_premier(3))\n",
        "print(est_premier(4))\n",
        "print(est_premier(5))"
      ],
      "metadata": {
        "id": "N-T0dPs7ejHG"
      },
      "execution_count": null,
      "outputs": []
    },
    {
      "cell_type": "markdown",
      "source": [
        "###Version améliorée"
      ],
      "metadata": {
        "id": "LkbkIxrGg2MF"
      }
    },
    {
      "cell_type": "code",
      "source": [
        "from math import isqrt\n",
        "\n",
        "def est_premier_v2(n):\n",
        "    if n <= 1:\n",
        "        return False\n",
        "    if n <= 3:\n",
        "        return True  # 2 et 3 sont premiers\n",
        "    if n % 2 == 0 or n % 3 == 0:\n",
        "        return False\n",
        "    r = isqrt(n)\n",
        "    d = 5\n",
        "    while d <= r:\n",
        "        if n % d == 0 or n % (d + 2) == 0:\n",
        "            return False\n",
        "        d += 6\n",
        "    return True\n",
        "\n",
        "print(est_premier_v2(0))\n",
        "print(est_premier_v2(1))\n",
        "print(est_premier_v2(2))\n",
        "print(est_premier_v2(3))\n",
        "print(est_premier_v2(4))\n",
        "print(est_premier_v2(5))"
      ],
      "metadata": {
        "id": "0s8Hot5UhK_W"
      },
      "execution_count": null,
      "outputs": []
    },
    {
      "cell_type": "markdown",
      "source": [
        "###Fonction de mesure du temps"
      ],
      "metadata": {
        "id": "05JNGafqisq_"
      }
    },
    {
      "cell_type": "code",
      "source": [
        "import time\n",
        "\n",
        "def timing(fonction, arg):\n",
        "    \"\"\"\n",
        "    Mesure le temps d'exécution d'une fonction avec un paramètre donné.\n",
        "\n",
        "    Paramètres:\n",
        "        fonction : La fonction à exécuter.\n",
        "        arg : Le paramètre à passer à la fonction.\n",
        "\n",
        "    Retourne:\n",
        "        tuple: Un tuple contenant le résultat de la fonction et le temps d'exécution en secondes.\n",
        "    \"\"\"\n",
        "    start_time = time.time()\n",
        "    result = fonction(arg)\n",
        "    end_time = time.time()\n",
        "    execution_time = end_time - start_time\n",
        "    print(f\"Résultat de la fonction : {result}\")\n",
        "    print(f\"Temps d'exécution : {execution_time:.6f} secondes\")\n",
        "    return result, execution_time\n",
        "\n",
        "timing(est_premier,10000000000)\n",
        "timing(est_premier_v2,10000000000)"
      ],
      "metadata": {
        "collapsed": true,
        "id": "TdbCfvnMivZu"
      },
      "execution_count": null,
      "outputs": []
    },
    {
      "cell_type": "markdown",
      "source": [
        "##Crible d'Eratosthène\n",
        "###Version de base"
      ],
      "metadata": {
        "id": "bisUITOEjhpO"
      }
    },
    {
      "cell_type": "code",
      "source": [
        "def crible_eratosthene(n):\n",
        "    nombres = [True] * (n + 1)\n",
        "    nombres[0] = False\n",
        "    nombres[1] = False\n",
        "    p = 2\n",
        "    while p * p <= n:\n",
        "        if nombres[p]:\n",
        "            i = p * p\n",
        "            while i <= n:\n",
        "                nombres[i] = False\n",
        "                i += p\n",
        "        p += 1\n",
        "    premiers = []\n",
        "    for i in range(n + 1):\n",
        "        if nombres[i]:\n",
        "            premiers.append(i)\n",
        "    return premiers\n",
        "\n",
        "print(crible_eratosthene(1000))"
      ],
      "metadata": {
        "id": "sd4N9yZsjd8A"
      },
      "execution_count": null,
      "outputs": []
    },
    {
      "cell_type": "code",
      "source": [
        "def crible_eratosthene_impairs(n):\n",
        "    if n < 2:\n",
        "        return []\n",
        "    nombres = [True] * ((n // 2) + 1)\n",
        "    nombres[0] = False  # 1 n'est pas premier\n",
        "    limite = int(n ** 0.5) + 1\n",
        "    for i in range(3, limite, 2):\n",
        "        if nombres[i // 2]:\n",
        "            for j in range(i * i, n + 1, 2 * i):\n",
        "                nombres[j // 2] = False\n",
        "    premiers = [2] + [2 * i + 1 for i in range(1, (n // 2) + 1) if nombres[i]]\n",
        "    return premiers\n",
        "\n",
        "print(crible_eratosthene_impairs(1000))"
      ],
      "metadata": {
        "id": "P7P7v5vrkorT"
      },
      "execution_count": null,
      "outputs": []
    },
    {
      "cell_type": "markdown",
      "source": [
        "###Utilisation de numpy"
      ],
      "metadata": {
        "id": "2dG4zjJlnblf"
      }
    },
    {
      "cell_type": "code",
      "source": [
        "import numpy as np\n",
        "\n",
        "def crible_eratosthene_numpy(n):\n",
        "    if n < 2:\n",
        "        return []\n",
        "    nombres = np.ones(n + 1, dtype=bool)\n",
        "    nombres[:2] = False  # 0 et 1 ne sont pas premiers\n",
        "    limite = int(n ** 0.5) + 1\n",
        "    for p in range(2, limite):\n",
        "        if nombres[p]:\n",
        "            nombres[p*p:n+1:p] = False\n",
        "    premiers = np.nonzero(nombres)[0]\n",
        "    return premiers.tolist()\n",
        "\n",
        "print(crible_eratosthene_numpy(1000))"
      ],
      "metadata": {
        "id": "vRZHd2SInfWc"
      },
      "execution_count": null,
      "outputs": []
    },
    {
      "cell_type": "code",
      "source": [
        "def decomposition_facteurs(n):\n",
        "    facteurs = []\n",
        "    d = 2\n",
        "    while n >= 2:\n",
        "        while n % d == 0:\n",
        "            facteurs.append(d)\n",
        "            n = n // d\n",
        "        d += 1\n",
        "    return facteurs\n",
        "\n",
        "def decomposition_facteurs_puissances(n):\n",
        "    facteurs = {}\n",
        "    d = 2\n",
        "    while n >= 2:\n",
        "        compteur = 0\n",
        "        while n % d == 0:\n",
        "            compteur += 1\n",
        "            n = n // d\n",
        "        if compteur > 0:\n",
        "            facteurs[d] = compteur\n",
        "        d += 1\n",
        "    return facteurs\n"
      ],
      "metadata": {
        "id": "v1mZGCqwrGu3"
      },
      "execution_count": null,
      "outputs": []
    },
    {
      "cell_type": "code",
      "source": [
        "def decomposition_facteurs(n):\n",
        "    facteurs = []\n",
        "    # Vérifier le diviseur 2 séparément\n",
        "    while n % 2 == 0:\n",
        "        facteurs.append(2)\n",
        "        n = n // 2\n",
        "    # Commencer à partir de 3 et tester seulement les nombres impairs\n",
        "    d = 3\n",
        "    while n >= 2 and d * d <= n:\n",
        "        while n % d == 0:\n",
        "            facteurs.append(d)\n",
        "            n = n // d\n",
        "        d += 2  # Passer au nombre impair suivant\n",
        "    # Si n est un nombre premier supérieur à 2\n",
        "    if n > 1:\n",
        "        facteurs.append(n)\n",
        "    return facteurs\n"
      ],
      "metadata": {
        "id": "DJO1OZ15rIIB"
      },
      "execution_count": null,
      "outputs": []
    },
    {
      "cell_type": "code",
      "source": [
        "def decomposition_facteurs_avec_premiers(n, premiers):\n",
        "    facteurs = []\n",
        "    for d in premiers:\n",
        "        if d * d > n:\n",
        "            break\n",
        "        while n % d == 0:\n",
        "            facteurs.append(d)\n",
        "            n = n // d\n",
        "    if n > 1:\n",
        "        facteurs.append(n)\n",
        "    return facteurs\n"
      ],
      "metadata": {
        "id": "32XUhaNQrPiG"
      },
      "execution_count": null,
      "outputs": []
    },
    {
      "cell_type": "code",
      "source": [
        "def decomposition_facteurs_listes(n):\n",
        "    facteurs = []\n",
        "    puissances = []\n",
        "    d = 2\n",
        "    while n >= 2:\n",
        "        compteur = 0\n",
        "        while n % d == 0:\n",
        "            compteur += 1\n",
        "            n = n // d\n",
        "        if compteur > 0:\n",
        "            facteurs.append(d)\n",
        "            puissances.append(compteur)\n",
        "        d += 1\n",
        "    return facteurs, puissances\n"
      ],
      "metadata": {
        "id": "WZrJKyckrt-C"
      },
      "execution_count": null,
      "outputs": []
    }
  ]
}