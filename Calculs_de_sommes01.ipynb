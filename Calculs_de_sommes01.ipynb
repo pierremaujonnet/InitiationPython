{
  "nbformat": 4,
  "nbformat_minor": 0,
  "metadata": {
    "colab": {
      "provenance": [],
      "toc_visible": true,
      "authorship_tag": "ABX9TyNIp2jSkvDtwoU3fQcyVAQB",
      "include_colab_link": true
    },
    "kernelspec": {
      "name": "python3",
      "display_name": "Python 3"
    },
    "language_info": {
      "name": "python"
    }
  },
  "cells": [
    {
      "cell_type": "markdown",
      "metadata": {
        "id": "view-in-github",
        "colab_type": "text"
      },
      "source": [
        "<a href=\"https://colab.research.google.com/github/pierremaujonnet/InitiationPython/blob/main/Calculs_de_sommes01.ipynb\" target=\"_parent\"><img src=\"https://colab.research.google.com/assets/colab-badge.svg\" alt=\"Open In Colab\"/></a>"
      ]
    },
    {
      "cell_type": "code",
      "execution_count": null,
      "metadata": {
        "id": "dFLm_SRxuDYd"
      },
      "outputs": [],
      "source": []
    },
    {
      "cell_type": "markdown",
      "source": [
        "#Comment calculer une somme\n",
        "Nous souhaitons calculer la somme $∑\\limits_{k=0}^nk2^k$ de plusieurs manières différentes."
      ],
      "metadata": {
        "id": "ReDt3tMwwUQe"
      }
    },
    {
      "cell_type": "markdown",
      "source": [
        "##Utilisation de l'instruction `range`\n",
        "Compléter le code suivant, puis l'exécuter."
      ],
      "metadata": {
        "id": "T7-Vu0Ra0pmK"
      }
    },
    {
      "cell_type": "code",
      "source": [
        "def somme1(n):\n",
        "  somme = 0\n",
        "  for k in range(n+1):\n",
        "    somme = somme + k*2**k\n",
        "  return somme\n",
        "\n",
        "print(somme1(10))#Le résultat attendu est 18434"
      ],
      "metadata": {
        "colab": {
          "base_uri": "https://localhost:8080/"
        },
        "cellView": "code",
        "id": "OZZ_hqaK1atK",
        "outputId": "8c8ed815-26a4-41ec-8016-870e3112b455"
      },
      "execution_count": 10,
      "outputs": [
        {
          "output_type": "stream",
          "name": "stdout",
          "text": [
            "18434\n"
          ]
        }
      ]
    },
    {
      "cell_type": "markdown",
      "source": [
        "### Remarques\n",
        "*   L'instruction `range(a)` renvoie un objet itérable parcourant les entiers compris entre **0 inclus** et **a exclu**. Pour que a soit atteint dans notre boucle, on utilise l'instruction `range(a+1)`.\n",
        "*   L'instruction `range(a,b)` renvoie un objet itérable parcourant les entiers compris entre **a inclus** et **b exclu**.\n",
        "*   L'instruction `range(a,b,c)` renvoie un objet itérable parcourant les entiers compris entre **a inclus** et **b exclu** avec un **pas** égal à **c**."
      ],
      "metadata": {
        "id": "sZOQRTCf2tcu"
      }
    },
    {
      "cell_type": "markdown",
      "source": [
        "##Utilisation d'une boucle `while`\n",
        "Compléter le code suivant, puis l'exécuter."
      ],
      "metadata": {
        "id": "IJs9nE2B_pVh"
      }
    },
    {
      "cell_type": "code",
      "source": [
        "def somme2(n):\n",
        "  somme = 0\n",
        "  k = 0\n",
        "  while k <= n:\n",
        "    somme = somme + k*2**k\n",
        "    k = k + 1\n",
        "  return somme\n",
        "\n",
        "print(somme2(10))#Le résultat attendu est 18434"
      ],
      "metadata": {
        "colab": {
          "base_uri": "https://localhost:8080/"
        },
        "id": "Eu__7zi4_6_1",
        "outputId": "315872bf-163c-4aae-fc2a-db8d52eb854d"
      },
      "execution_count": 13,
      "outputs": [
        {
          "output_type": "stream",
          "name": "stdout",
          "text": [
            "18434\n"
          ]
        }
      ]
    },
    {
      "cell_type": "markdown",
      "source": [
        "##Utilisation de l'opérateur `+=`\n",
        "L'opérateur `+=` ajoute une valeur à la valeur d'une variable.\n",
        "Par exemple :"
      ],
      "metadata": {
        "id": "5FVB1yrD-yU8"
      }
    },
    {
      "cell_type": "code",
      "source": [
        "a = 5\n",
        "a+= 3\n",
        "print(a)"
      ],
      "metadata": {
        "colab": {
          "base_uri": "https://localhost:8080/"
        },
        "id": "8uN7Kbol_fVk",
        "outputId": "7938c4fa-b116-44b7-9fed-644acce903c3"
      },
      "execution_count": 11,
      "outputs": [
        {
          "output_type": "stream",
          "name": "stdout",
          "text": [
            "8\n"
          ]
        }
      ]
    },
    {
      "cell_type": "markdown",
      "source": [
        "Compléter le code suivant en utilisant l'opérateur `+=`, puis l'exécuter."
      ],
      "metadata": {
        "id": "FYtGztnMAwoN"
      }
    },
    {
      "cell_type": "code",
      "source": [
        "def somme3(n):\n",
        "  somme = 0\n",
        "  k = 0\n",
        "  while k <= n:\n",
        "    somme += k*2**k\n",
        "    k += 1\n",
        "  return somme\n",
        "\n",
        "print(somme3(10))#Le résultat attendu est 18434"
      ],
      "metadata": {
        "colab": {
          "base_uri": "https://localhost:8080/"
        },
        "id": "RMs2gkCfBCeV",
        "outputId": "0fd80bbd-774b-4440-98e5-71cc5242cba0"
      },
      "execution_count": 12,
      "outputs": [
        {
          "output_type": "stream",
          "name": "stdout",
          "text": [
            "18434\n"
          ]
        }
      ]
    },
    {
      "cell_type": "markdown",
      "source": [
        "##Utilisation d'une boucle `while` (parcours inversé)\n",
        "Compléter le code suivant, puis l'exécuter."
      ],
      "metadata": {
        "id": "we71RwJTBTm-"
      }
    },
    {
      "cell_type": "code",
      "source": [
        "def somme4(n):\n",
        "  somme = 0\n",
        "  while n>=0:\n",
        "    somme += n*2**n\n",
        "    n -= 1\n",
        "  return somme\n",
        "\n",
        "print(somme4(10))#Le résultat attendu est 18434"
      ],
      "metadata": {
        "colab": {
          "base_uri": "https://localhost:8080/"
        },
        "id": "Th8kfxSOBotf",
        "outputId": "92469dea-562e-43da-de3a-16a0e8f3c1a2"
      },
      "execution_count": 15,
      "outputs": [
        {
          "output_type": "stream",
          "name": "stdout",
          "text": [
            "18434\n"
          ]
        }
      ]
    },
    {
      "cell_type": "markdown",
      "source": [
        "##Utilisation d'une fonction récursive\n",
        "Compléter le code suivant, puis l'exécuter."
      ],
      "metadata": {
        "id": "TriCou7cC_7k"
      }
    },
    {
      "cell_type": "code",
      "source": [
        "def somme5(n):\n",
        "  if n>=0:\n",
        "    return n*2**n + somme5(n-1)\n",
        "  else:\n",
        "    return 0\n",
        "\n",
        "print(somme5(10))#Le résultat attendu est 18434"
      ],
      "metadata": {
        "colab": {
          "base_uri": "https://localhost:8080/"
        },
        "id": "cCo1xel7DEuv",
        "outputId": "2a1359ad-875b-45bf-8a2a-3fd4faa0e06f"
      },
      "execution_count": 16,
      "outputs": [
        {
          "output_type": "stream",
          "name": "stdout",
          "text": [
            "18434\n"
          ]
        }
      ]
    }
  ]
}